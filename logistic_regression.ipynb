{
  "nbformat": 4,
  "nbformat_minor": 0,
  "metadata": {
    "colab": {
      "provenance": [],
      "authorship_tag": "ABX9TyNPybH3/6Q5XAco/ITTX+Ae",
      "include_colab_link": true
    },
    "kernelspec": {
      "name": "python3",
      "display_name": "Python 3"
    },
    "language_info": {
      "name": "python"
    }
  },
  "cells": [
    {
      "cell_type": "markdown",
      "metadata": {
        "id": "view-in-github",
        "colab_type": "text"
      },
      "source": [
        "<a href=\"https://colab.research.google.com/github/rajeshsingh123/Logistic_Regression/blob/main/logistic_regression.ipynb\" target=\"_parent\"><img src=\"https://colab.research.google.com/assets/colab-badge.svg\" alt=\"Open In Colab\"/></a>"
      ]
    },
    {
      "cell_type": "code",
      "execution_count": null,
      "metadata": {
        "id": "M8sb5NSGK8AL"
      },
      "outputs": [],
      "source": [
        "import numpy as np\n",
        "import matplotlib.pyplot as plt"
      ]
    },
    {
      "cell_type": "code",
      "source": [
        "x1 = np.arange(50)\n",
        "x1"
      ],
      "metadata": {
        "colab": {
          "base_uri": "https://localhost:8080/"
        },
        "id": "uYgm7t-mLQVf",
        "outputId": "e068cd73-e6cc-4bcb-8a2f-8338e76cf6ac"
      },
      "execution_count": null,
      "outputs": [
        {
          "output_type": "execute_result",
          "data": {
            "text/plain": [
              "array([ 0,  1,  2,  3,  4,  5,  6,  7,  8,  9, 10, 11, 12, 13, 14, 15, 16,\n",
              "       17, 18, 19, 20, 21, 22, 23, 24, 25, 26, 27, 28, 29, 30, 31, 32, 33,\n",
              "       34, 35, 36, 37, 38, 39, 40, 41, 42, 43, 44, 45, 46, 47, 48, 49])"
            ]
          },
          "metadata": {},
          "execution_count": 37
        }
      ]
    },
    {
      "cell_type": "code",
      "source": [
        "x2 = np.random.rand(x1.size) * 50\n",
        "x2\n"
      ],
      "metadata": {
        "colab": {
          "base_uri": "https://localhost:8080/"
        },
        "id": "Vz-_Pjz8LV-G",
        "outputId": "be7e5f3d-8c4b-4152-d6b4-294fe0ae6474"
      },
      "execution_count": null,
      "outputs": [
        {
          "output_type": "execute_result",
          "data": {
            "text/plain": [
              "array([14.5150641 , 18.53691039, 21.56312473, 34.87602852, 12.75724238,\n",
              "       27.02619313, 44.6347775 , 31.75266261, 45.24324283, 32.47167952,\n",
              "       48.48597003, 32.9301331 , 33.82045474,  3.74397745, 26.38237429,\n",
              "       40.16079509, 29.25451434, 21.39036028, 38.36604344, 31.16504418,\n",
              "       21.30686423, 35.57210799, 33.72362903, 20.95368939, 33.26721493,\n",
              "       27.78125949, 35.27908921, 37.50799352,  3.62915644, 16.77809113,\n",
              "       38.56769661, 29.28807412, 14.21068912, 46.88560865,  0.1949866 ,\n",
              "       12.98871034, 36.9394638 , 45.11391926, 34.83571933, 21.06608238,\n",
              "       23.98073959,  0.17133659,  7.7363463 , 26.67973671, 16.02356167,\n",
              "       19.49045652,  1.34140596, 38.81517438, 11.75699504, 39.15920101])"
            ]
          },
          "metadata": {},
          "execution_count": 38
        }
      ]
    },
    {
      "cell_type": "code",
      "source": [
        "plt.scatter(x1, x2)\n"
      ],
      "metadata": {
        "colab": {
          "base_uri": "https://localhost:8080/",
          "height": 283
        },
        "id": "yXkQiPusLa46",
        "outputId": "5c00ea68-e333-4c50-d64f-8b023684a6be"
      },
      "execution_count": null,
      "outputs": [
        {
          "output_type": "execute_result",
          "data": {
            "text/plain": [
              "<matplotlib.collections.PathCollection at 0x7f4b7af7ba10>"
            ]
          },
          "metadata": {},
          "execution_count": 39
        },
        {
          "output_type": "display_data",
          "data": {
            "text/plain": [
              "<Figure size 432x288 with 1 Axes>"
            ],
            "image/png": "[encoded data removed]"
          },
          "metadata": {
            "needs_background": "light"
          }
        }
      ]
    },
    {
      "cell_type": "code",
      "source": [
        "y = np.where(x1 - x2 >= 0, 0, 1)\n",
        "y"
      ],
      "metadata": {
        "colab": {
          "base_uri": "https://localhost:8080/"
        },
        "id": "xC4QPZOfLmkp",
        "outputId": "28b1c384-10eb-4f80-ac11-d1305b25d219"
      },
      "execution_count": null,
      "outputs": [
        {
          "output_type": "execute_result",
          "data": {
            "text/plain": [
              "array([1, 1, 1, 1, 1, 1, 1, 1, 1, 1, 1, 1, 1, 0, 1, 1, 1, 1, 1, 1, 1, 1,\n",
              "       1, 0, 1, 1, 1, 1, 0, 0, 1, 0, 0, 1, 0, 0, 1, 1, 0, 0, 0, 0, 0, 0,\n",
              "       0, 0, 0, 0, 0, 0])"
            ]
          },
          "metadata": {},
          "execution_count": 40
        }
      ]
    },
    {
      "cell_type": "code",
      "source": [
        "x1-x2"
      ],
      "metadata": {
        "colab": {
          "base_uri": "https://localhost:8080/"
        },
        "id": "YkJG5gocLqKU",
        "outputId": "5f9bd6d7-4362-4270-fa91-7fd6f7ccf3ad"
      },
      "execution_count": null,
      "outputs": [
        {
          "output_type": "execute_result",
          "data": {
            "text/plain": [
              "array([-14.5150641 , -17.53691039, -19.56312473, -31.87602852,\n",
              "        -8.75724238, -22.02619313, -38.6347775 , -24.75266261,\n",
              "       -37.24324283, -23.47167952, -38.48597003, -21.9301331 ,\n",
              "       -21.82045474,   9.25602255, -12.38237429, -25.16079509,\n",
              "       -13.25451434,  -4.39036028, -20.36604344, -12.16504418,\n",
              "        -1.30686423, -14.57210799, -11.72362903,   2.04631061,\n",
              "        -9.26721493,  -2.78125949,  -9.27908921, -10.50799352,\n",
              "        24.37084356,  12.22190887,  -8.56769661,   1.71192588,\n",
              "        17.78931088, -13.88560865,  33.8050134 ,  22.01128966,\n",
              "        -0.9394638 ,  -8.11391926,   3.16428067,  17.93391762,\n",
              "        16.01926041,  40.82866341,  34.2636537 ,  16.32026329,\n",
              "        27.97643833,  25.50954348,  44.65859404,   8.18482562,\n",
              "        36.24300496,   9.84079899])"
            ]
          },
          "metadata": {},
          "execution_count": 41
        }
      ]
    },
    {
      "cell_type": "code",
      "source": [
        "plt.scatter(x1, x2, c = y)\n"
      ],
      "metadata": {
        "colab": {
          "base_uri": "https://localhost:8080/",
          "height": 283
        },
        "id": "XpyxlhGxLxyH",
        "outputId": "5efc9d79-7670-4618-c242-3d9a23406968"
      },
      "execution_count": null,
      "outputs": [
        {
          "output_type": "execute_result",
          "data": {
            "text/plain": [
              "<matplotlib.collections.PathCollection at 0x7f4b7add3e90>"
            ]
          },
          "metadata": {},
          "execution_count": 42
        },
        {
          "output_type": "display_data",
          "data": {
            "text/plain": [
              "<Figure size 432x288 with 1 Axes>"
            ],
            "image/png": "[encoded data removed]"
          },
          "metadata": {
            "needs_background": "light"
          }
        }
      ]
    },
    {
      "cell_type": "code",
      "source": [
        "X = np.dstack([x1, x2])[0]\n",
        "X.shape"
      ],
      "metadata": {
        "colab": {
          "base_uri": "https://localhost:8080/"
        },
        "id": "GqKobqnqL16a",
        "outputId": "acdc9eca-aa96-4bcf-f3a8-dec8e9b8286a"
      },
      "execution_count": null,
      "outputs": [
        {
          "output_type": "execute_result",
          "data": {
            "text/plain": [
              "(50, 2)"
            ]
          },
          "metadata": {},
          "execution_count": 43
        }
      ]
    },
    {
      "cell_type": "code",
      "source": [
        "X"
      ],
      "metadata": {
        "colab": {
          "base_uri": "https://localhost:8080/"
        },
        "id": "TWCfOgiaMEGt",
        "outputId": "11bbdb35-0a7d-44cc-dfb7-9c0e09ea1e72"
      },
      "execution_count": null,
      "outputs": [
        {
          "output_type": "execute_result",
          "data": {
            "text/plain": [
              "array([[ 0.        , 14.5150641 ],\n",
              "       [ 1.        , 18.53691039],\n",
              "       [ 2.        , 21.56312473],\n",
              "       [ 3.        , 34.87602852],\n",
              "       [ 4.        , 12.75724238],\n",
              "       [ 5.        , 27.02619313],\n",
              "       [ 6.        , 44.6347775 ],\n",
              "       [ 7.        , 31.75266261],\n",
              "       [ 8.        , 45.24324283],\n",
              "       [ 9.        , 32.47167952],\n",
              "       [10.        , 48.48597003],\n",
              "       [11.        , 32.9301331 ],\n",
              "       [12.        , 33.82045474],\n",
              "       [13.        ,  3.74397745],\n",
              "       [14.        , 26.38237429],\n",
              "       [15.        , 40.16079509],\n",
              "       [16.        , 29.25451434],\n",
              "       [17.        , 21.39036028],\n",
              "       [18.        , 38.36604344],\n",
              "       [19.        , 31.16504418],\n",
              "       [20.        , 21.30686423],\n",
              "       [21.        , 35.57210799],\n",
              "       [22.        , 33.72362903],\n",
              "       [23.        , 20.95368939],\n",
              "       [24.        , 33.26721493],\n",
              "       [25.        , 27.78125949],\n",
              "       [26.        , 35.27908921],\n",
              "       [27.        , 37.50799352],\n",
              "       [28.        ,  3.62915644],\n",
              "       [29.        , 16.77809113],\n",
              "       [30.        , 38.56769661],\n",
              "       [31.        , 29.28807412],\n",
              "       [32.        , 14.21068912],\n",
              "       [33.        , 46.88560865],\n",
              "       [34.        ,  0.1949866 ],\n",
              "       [35.        , 12.98871034],\n",
              "       [36.        , 36.9394638 ],\n",
              "       [37.        , 45.11391926],\n",
              "       [38.        , 34.83571933],\n",
              "       [39.        , 21.06608238],\n",
              "       [40.        , 23.98073959],\n",
              "       [41.        ,  0.17133659],\n",
              "       [42.        ,  7.7363463 ],\n",
              "       [43.        , 26.67973671],\n",
              "       [44.        , 16.02356167],\n",
              "       [45.        , 19.49045652],\n",
              "       [46.        ,  1.34140596],\n",
              "       [47.        , 38.81517438],\n",
              "       [48.        , 11.75699504],\n",
              "       [49.        , 39.15920101]])"
            ]
          },
          "metadata": {},
          "execution_count": 44
        }
      ]
    },
    {
      "cell_type": "code",
      "source": [
        "from sklearn.linear_model import LogisticRegression\n",
        "\n",
        "logR = LogisticRegression()\n",
        "logR.fit(X, y)"
      ],
      "metadata": {
        "colab": {
          "base_uri": "https://localhost:8080/"
        },
        "id": "sJlOqvVQMRwt",
        "outputId": "678fc0f6-5f18-4d3a-94a7-41a44f0e5d6f"
      },
      "execution_count": null,
      "outputs": [
        {
          "output_type": "execute_result",
          "data": {
            "text/plain": [
              "LogisticRegression()"
            ]
          },
          "metadata": {},
          "execution_count": 45
        }
      ]
    },
    {
      "cell_type": "code",
      "source": [
        "from mlxtend.plotting import plot_decision_regions\n",
        "\n",
        "plot_decision_regions(X, y, clf = logR)"
      ],
      "metadata": {
        "colab": {
          "base_uri": "https://localhost:8080/",
          "height": 337
        },
        "id": "KPUObBJiMjZB",
        "outputId": "7b4f0cf2-711e-4417-df71-45e3892ceb70"
      },
      "execution_count": null,
      "outputs": [
        {
          "output_type": "stream",
          "name": "stderr",
          "text": [
            "/usr/local/lib/python3.7/dist-packages/mlxtend/plotting/decision_regions.py:244: MatplotlibDeprecationWarning: Passing unsupported keyword arguments to axis() will raise a TypeError in 3.3.\n",
            "  ax.axis(xmin=xx.min(), xmax=xx.max(), y_min=yy.min(), y_max=yy.max())\n"
          ]
        },
        {
          "output_type": "execute_result",
          "data": {
            "text/plain": [
              "<matplotlib.axes._subplots.AxesSubplot at 0x7f4b7aa75450>"
            ]
          },
          "metadata": {},
          "execution_count": 46
        },
        {
          "output_type": "display_data",
          "data": {
            "text/plain": [
              "<Figure size 432x288 with 1 Axes>"
            ],
            "image/png": "[encoded data removed]"
          },
          "metadata": {
            "needs_background": "light"
          }
        }
      ]
    },
    {
      "cell_type": "code",
      "source": [
        "logR.coef_\n"
      ],
      "metadata": {
        "colab": {
          "base_uri": "https://localhost:8080/"
        },
        "id": "6FdBH6xUMqaW",
        "outputId": "2190e525-a1b7-4953-b462-f39d4d289f27"
      },
      "execution_count": null,
      "outputs": [
        {
          "output_type": "execute_result",
          "data": {
            "text/plain": [
              "array([[-0.87845131,  0.88937831]])"
            ]
          },
          "metadata": {},
          "execution_count": 47
        }
      ]
    },
    {
      "cell_type": "code",
      "source": [
        "logR.intercept_\n"
      ],
      "metadata": {
        "colab": {
          "base_uri": "https://localhost:8080/"
        },
        "id": "DrmxvUYINdTi",
        "outputId": "0c409f06-bda3-47fb-eaad-88a5dd3ea6e4"
      },
      "execution_count": null,
      "outputs": [
        {
          "output_type": "execute_result",
          "data": {
            "text/plain": [
              "array([0.01770998])"
            ]
          },
          "metadata": {},
          "execution_count": 48
        }
      ]
    },
    {
      "cell_type": "code",
      "source": [
        "from IPython.display import clear_output\n"
      ],
      "metadata": {
        "id": "CyiAfym5Nflu"
      },
      "execution_count": null,
      "outputs": []
    },
    {
      "cell_type": "code",
      "source": [
        "class CustomLogisticRegression():\n",
        "  def __init__(self, learning_rate, iteration):\n",
        "    self.learning_rate = learning_rate\n",
        "    self.iteration = iteration\n",
        "\n",
        "  def fit(self, X, y):\n",
        "    row, col = X.shape\n",
        "\n",
        "    self.W = np.random.rand(col)\n",
        "    self.b = np.random.rand()\n",
        "\n",
        "    for i in range(self.iteration):\n",
        "      distance = X.dot(self.W) + self.b\n",
        "      y_pred = self.sigmoid(distance)\n",
        "      print(i ,\"  \", y_pred)\n",
        "\n",
        "      dw = (X.T).dot(y_pred - y) / row\n",
        "      db = (y_pred - y).sum() / row\n",
        "      \n",
        "\n",
        "      self.W = self.W - self.learning_rate * dw\n",
        "      self.b = self.b - self.learning_rate * db\n",
        "\n",
        "      \n",
        "      x1 = np.array([0, 50])\n",
        "      x2 = -(self.W[0] * x1 - self.b)/self.W[1]\n",
        "      \n",
        "      clear_output(wait = True)\n",
        "      plt.scatter(X[:, 0], X[:, 1], c = y)\n",
        "      plt.plot(x1, x2, \"r--\")\n",
        "      plt.title(\"Interation\" + str(i))\n",
        "      plt.show()\n",
        "\n",
        "  def sigmoid(self, x):\n",
        "    return 1 / (1 - np.exp(-x))\n",
        "\n",
        "  def predict(self, X):\n",
        "    distance = X.dot(self.W) + self.b\n",
        "    probability = self.sigmoid(distance)\n",
        "    return np.round(probability)"
      ],
      "metadata": {
        "id": "IYiPJXZgNjgx"
      },
      "execution_count": null,
      "outputs": []
    },
    {
      "cell_type": "code",
      "source": [
        "clogR = CustomLogisticRegression(0.1, 50)\n",
        "clogR.fit(X, y)"
      ],
      "metadata": {
        "colab": {
          "base_uri": "https://localhost:8080/",
          "height": 281
        },
        "id": "DDmx1_KYNv2P",
        "outputId": "98146f39-8051-4f68-d360-c868c0daae8c"
      },
      "execution_count": null,
      "outputs": [
        {
          "output_type": "display_data",
          "data": {
            "text/plain": [
              "<Figure size 432x288 with 1 Axes>"
            ],
            "image/png": "[encoded data removed]"
          },
          "metadata": {
            "needs_background": "light"
          }
        }
      ]
    },
    {
      "cell_type": "markdown",
      "source": [
        "SOFT MAX"
      ],
      "metadata": {
        "id": "_3lqixO3OKxS"
      }
    },
    {
      "cell_type": "code",
      "source": [
        "plt.scatter(x1, x2)\n"
      ],
      "metadata": {
        "colab": {
          "base_uri": "https://localhost:8080/",
          "height": 283
        },
        "id": "cm1GiufyN1dT",
        "outputId": "ca2e09de-a467-47bc-f04f-aa12c6bf9c1f"
      },
      "execution_count": null,
      "outputs": [
        {
          "output_type": "execute_result",
          "data": {
            "text/plain": [
              "<matplotlib.collections.PathCollection at 0x7f4b7ae1a050>"
            ]
          },
          "metadata": {},
          "execution_count": 52
        },
        {
          "output_type": "display_data",
          "data": {
            "text/plain": [
              "<Figure size 432x288 with 1 Axes>"
            ],
            "image/png": "[encoded data removed]"
          },
          "metadata": {
            "needs_background": "light"
          }
        }
      ]
    },
    {
      "cell_type": "code",
      "source": [
        "def get_y(x):\n",
        "  if(x < 10):\n",
        "    return 1\n",
        "  elif(x < 30 ):\n",
        "    return 2\n",
        "  else:\n",
        "    return 3"
      ],
      "metadata": {
        "id": "ZuwvtNsjOQah"
      },
      "execution_count": null,
      "outputs": []
    },
    {
      "cell_type": "code",
      "source": [
        "y = np.array(list(map(get_y, x1)))\n"
      ],
      "metadata": {
        "id": "KC7vykEiOWGt"
      },
      "execution_count": null,
      "outputs": []
    },
    {
      "cell_type": "code",
      "source": [
        "x1"
      ],
      "metadata": {
        "colab": {
          "base_uri": "https://localhost:8080/"
        },
        "id": "JoP6LgcbPdHy",
        "outputId": "e0b354c5-0122-4e7b-efa2-c089da07da8a"
      },
      "execution_count": null,
      "outputs": [
        {
          "output_type": "execute_result",
          "data": {
            "text/plain": [
              "array([ 0,  1,  2,  3,  4,  5,  6,  7,  8,  9, 10, 11, 12, 13, 14, 15, 16,\n",
              "       17, 18, 19, 20, 21, 22, 23, 24, 25, 26, 27, 28, 29, 30, 31, 32, 33,\n",
              "       34, 35, 36, 37, 38, 39, 40, 41, 42, 43, 44, 45, 46, 47, 48, 49])"
            ]
          },
          "metadata": {},
          "execution_count": 55
        }
      ]
    },
    {
      "cell_type": "code",
      "source": [
        "y"
      ],
      "metadata": {
        "colab": {
          "base_uri": "https://localhost:8080/"
        },
        "id": "yLWCAg7oObtR",
        "outputId": "0ac6e149-a320-4b83-a1f9-f870bac38415"
      },
      "execution_count": null,
      "outputs": [
        {
          "output_type": "execute_result",
          "data": {
            "text/plain": [
              "array([1, 1, 1, 1, 1, 1, 1, 1, 1, 1, 2, 2, 2, 2, 2, 2, 2, 2, 2, 2, 2, 2,\n",
              "       2, 2, 2, 2, 2, 2, 2, 2, 3, 3, 3, 3, 3, 3, 3, 3, 3, 3, 3, 3, 3, 3,\n",
              "       3, 3, 3, 3, 3, 3])"
            ]
          },
          "metadata": {},
          "execution_count": 56
        }
      ]
    },
    {
      "cell_type": "code",
      "source": [
        "plt.scatter(x1, x2, c = y)\n"
      ],
      "metadata": {
        "colab": {
          "base_uri": "https://localhost:8080/",
          "height": 283
        },
        "id": "I2aPOQ_ZOdvz",
        "outputId": "41af632e-1b83-4557-9b01-7a1fbef9a881"
      },
      "execution_count": null,
      "outputs": [
        {
          "output_type": "execute_result",
          "data": {
            "text/plain": [
              "<matplotlib.collections.PathCollection at 0x7f4b7a71b3d0>"
            ]
          },
          "metadata": {},
          "execution_count": 57
        },
        {
          "output_type": "display_data",
          "data": {
            "text/plain": [
              "<Figure size 432x288 with 1 Axes>"
            ],
            "image/png": "[encoded data removed]"
          },
          "metadata": {
            "needs_background": "light"
          }
        }
      ]
    },
    {
      "cell_type": "code",
      "source": [
        "from sklearn.linear_model import LogisticRegression\n",
        "\n",
        "logR = LogisticRegression(multi_class = \"multinomial\")\n",
        "logR.fit(X, y)"
      ],
      "metadata": {
        "colab": {
          "base_uri": "https://localhost:8080/"
        },
        "id": "HRKjlbYOOif7",
        "outputId": "71452774-8066-4f03-aad6-6e4dbd7e1501"
      },
      "execution_count": null,
      "outputs": [
        {
          "output_type": "execute_result",
          "data": {
            "text/plain": [
              "LogisticRegression(multi_class='multinomial')"
            ]
          },
          "metadata": {},
          "execution_count": 58
        }
      ]
    },
    {
      "cell_type": "code",
      "source": [
        "from mlxtend.plotting import plot_decision_regions\n",
        "\n",
        "plot_decision_regions(X, y, clf = logR)"
      ],
      "metadata": {
        "colab": {
          "base_uri": "https://localhost:8080/",
          "height": 337
        },
        "id": "djiyf40RPITN",
        "outputId": "adbeeeb8-b810-4cb8-c930-47d626fe5e45"
      },
      "execution_count": null,
      "outputs": [
        {
          "output_type": "stream",
          "name": "stderr",
          "text": [
            "/usr/local/lib/python3.7/dist-packages/mlxtend/plotting/decision_regions.py:244: MatplotlibDeprecationWarning: Passing unsupported keyword arguments to axis() will raise a TypeError in 3.3.\n",
            "  ax.axis(xmin=xx.min(), xmax=xx.max(), y_min=yy.min(), y_max=yy.max())\n"
          ]
        },
        {
          "output_type": "execute_result",
          "data": {
            "text/plain": [
              "<matplotlib.axes._subplots.AxesSubplot at 0x7f4b7ae6a790>"
            ]
          },
          "metadata": {},
          "execution_count": 59
        },
        {
          "output_type": "display_data",
          "data": {
            "text/plain": [
              "<Figure size 432x288 with 1 Axes>"
            ],
            "image/png": "[encoded data removed]"
          },
          "metadata": {
            "needs_background": "light"
          }
        }
      ]
    },
    {
      "cell_type": "code",
      "source": [],
      "metadata": {
        "id": "T5ykge0uPuh_"
      },
      "execution_count": null,
      "outputs": []
    }
  ]
}